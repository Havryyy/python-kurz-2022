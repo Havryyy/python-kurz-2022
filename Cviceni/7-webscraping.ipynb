{
 "cells": [
  {
   "attachments": {},
   "cell_type": "markdown",
   "metadata": {},
   "source": [
    " # Webscraping\n",
    " Odkaz na lekci: https://kodim.cz/kurzy/python-data-1/ziskavani-dat/webscraping"
   ]
  },
  {
   "attachments": {},
   "cell_type": "markdown",
   "metadata": {},
   "source": [
    "Dokumentace modulu `requests-html`: https://requests.readthedocs.io/projects/requests-html/en/latest/"
   ]
  },
  {
   "cell_type": "code",
   "execution_count": 3,
   "metadata": {},
   "outputs": [],
   "source": [
    "from requests_html import HTML\n",
    "from requests_html import HTMLSession"
   ]
  },
  {
   "cell_type": "code",
   "execution_count": null,
   "metadata": {},
   "outputs": [],
   "source": [
    "with open('ukazka.html', encoding='utf-8') as soubor:\n",
    "    obsah = soubor.read()\n",
    "\n",
    "html = HTML(html=obsah)\n",
    "# html.html"
   ]
  },
  {
   "attachments": {},
   "cell_type": "markdown",
   "metadata": {},
   "source": [
    "Vyhledávání v HTML podle jména značky:"
   ]
  },
  {
   "cell_type": "code",
   "execution_count": null,
   "metadata": {},
   "outputs": [
    {
     "data": {
      "text/plain": [
       "[<Element 'p' >, <Element 'p' >]"
      ]
     },
     "execution_count": 3,
     "metadata": {},
     "output_type": "execute_result"
    }
   ],
   "source": [
    "html.find('p')"
   ]
  },
  {
   "attachments": {},
   "cell_type": "markdown",
   "metadata": {},
   "source": [
    "Vyhledávání v HTML podle více značek:"
   ]
  },
  {
   "cell_type": "code",
   "execution_count": null,
   "metadata": {},
   "outputs": [
    {
     "data": {
      "text/plain": [
       "[<Element 'h1' >, <Element 'h2' >]"
      ]
     },
     "execution_count": 4,
     "metadata": {},
     "output_type": "execute_result"
    }
   ],
   "source": [
    "html.find('h1, h2')"
   ]
  },
  {
   "attachments": {},
   "cell_type": "markdown",
   "metadata": {},
   "source": [
    "Každý objekt typu `Element` má atribut `.text`:"
   ]
  },
  {
   "cell_type": "code",
   "execution_count": null,
   "metadata": {},
   "outputs": [
    {
     "name": "stdout",
     "output_type": "stream",
     "text": [
      "Text nějakého odstavce, který obsahuje zvýrazněný text a také důležitý text.\n",
      "Druhý odstavec je v takzvaném divu, což je značka, která nemá sama o sobě žádný význam. Také zde máme odkaz na stránky Czechitas.\n"
     ]
    }
   ],
   "source": [
    "for odstavec in html.find('p'):\n",
    "    print(odstavec.text)"
   ]
  },
  {
   "attachments": {},
   "cell_type": "markdown",
   "metadata": {},
   "source": [
    "Vyhledávání v HTML podle třídy (atribut `class`):"
   ]
  },
  {
   "cell_type": "code",
   "execution_count": null,
   "metadata": {},
   "outputs": [
    {
     "data": {
      "text/plain": [
       "[<Element 'div' class=('sekce1',)>]"
      ]
     },
     "execution_count": 6,
     "metadata": {},
     "output_type": "execute_result"
    }
   ],
   "source": [
    "html.find('.sekce1')"
   ]
  },
  {
   "attachments": {},
   "cell_type": "markdown",
   "metadata": {},
   "source": [
    "Přístup k atributům - jak najít adresy všech odkazů na naší stránce?"
   ]
  },
  {
   "cell_type": "code",
   "execution_count": null,
   "metadata": {},
   "outputs": [
    {
     "name": "stdout",
     "output_type": "stream",
     "text": [
      "\"http;://www.czechitas.cz\"\n"
     ]
    }
   ],
   "source": [
    "for odkaz in html.find('a'):\n",
    "    print(odkaz.attrs['href'])"
   ]
  },
  {
   "attachments": {},
   "cell_type": "markdown",
   "metadata": {},
   "source": [
    "Vyhledávání podle hodnoty atributu"
   ]
  },
  {
   "cell_type": "code",
   "execution_count": null,
   "metadata": {},
   "outputs": [
    {
     "data": {
      "text/plain": [
       "[<Element 'ol' type='a'>]"
      ]
     },
     "execution_count": 8,
     "metadata": {},
     "output_type": "execute_result"
    }
   ],
   "source": [
    "html.find('ol[type=\"a\"]')\n"
   ]
  },
  {
   "cell_type": "code",
   "execution_count": null,
   "metadata": {},
   "outputs": [
    {
     "data": {
      "text/plain": [
       "[<Element 'li' >, <Element 'li' >, <Element 'li' >]"
      ]
     },
     "execution_count": 9,
     "metadata": {},
     "output_type": "execute_result"
    }
   ],
   "source": [
    "html.find('ol[type=\"a\"] li')"
   ]
  },
  {
   "attachments": {},
   "cell_type": "markdown",
   "metadata": {},
   "source": [
    "## Scraping z internetu"
   ]
  },
  {
   "cell_type": "code",
   "execution_count": null,
   "metadata": {},
   "outputs": [],
   "source": [
    "session = HTMLSession()\n",
    "\n",
    "stranka = session.get('https://apps.kodim.cz/python-data/scrape')"
   ]
  },
  {
   "cell_type": "code",
   "execution_count": null,
   "metadata": {},
   "outputs": [
    {
     "name": "stdout",
     "output_type": "stream",
     "text": [
      "Text nějakého odstavce, který obsahuje zvýrazněný text a také důležitý text.\n",
      "Druhý odstavec je v takzvaném divu, což je značka, která nemá sama o sobě žádný význam. Také zde máme odkaz na stránky Czechitas.\n"
     ]
    }
   ],
   "source": [
    "for odstavec in stranka.html.find('p'):\n",
    "    print(odstavec.text)"
   ]
  },
  {
   "attachments": {},
   "cell_type": "markdown",
   "metadata": {},
   "source": [
    "## Webscraping pomocí `pandas.read_html`\n",
    "\n",
    "Nainstalujte si ještě jeden balíček, který se jmenuje `html5lib`:\n",
    "\n",
    "Windows: \n",
    "```\n",
    "pip install html5lib\n",
    "```\n",
    "\n",
    "Mac/Linux:\n",
    "```\n",
    "pip3 install html5lib\n",
    "```"
   ]
  },
  {
   "cell_type": "code",
   "execution_count": null,
   "metadata": {},
   "outputs": [],
   "source": [
    "import pandas"
   ]
  },
  {
   "attachments": {},
   "cell_type": "markdown",
   "metadata": {},
   "source": [
    "Data: \"Děti, žáci, studenti podle státního občanství\" (ČSÚ)"
   ]
  },
  {
   "cell_type": "code",
   "execution_count": null,
   "metadata": {},
   "outputs": [],
   "source": [
    "url = \"https://vdb.czso.cz/vdbvo2/faces/cs/index.jsf?page=vystup-objekt&z=T&f=TABULKA&skupId=1127&katalog=30848&pvo=VZD13b&pvo=VZD13b&u=v4__VUZEMI__97__19\"\n",
    "dfs = pandas.read_html(url)\n",
    "# dfs"
   ]
  },
  {
   "cell_type": "code",
   "execution_count": null,
   "metadata": {},
   "outputs": [],
   "source": [
    "# Tabulka na indexu 6 obsahuje data, která nás zajímají\n",
    "df = dfs[6]"
   ]
  },
  {
   "cell_type": "code",
   "execution_count": null,
   "metadata": {},
   "outputs": [
    {
     "data": {
      "text/html": [
       "<div>\n",
       "<style scoped>\n",
       "    .dataframe tbody tr th:only-of-type {\n",
       "        vertical-align: middle;\n",
       "    }\n",
       "\n",
       "    .dataframe tbody tr th {\n",
       "        vertical-align: top;\n",
       "    }\n",
       "\n",
       "    .dataframe thead th {\n",
       "        text-align: right;\n",
       "    }\n",
       "</style>\n",
       "<table border=\"1\" class=\"dataframe\">\n",
       "  <thead>\n",
       "    <tr style=\"text-align: right;\">\n",
       "      <th></th>\n",
       "      <th>pocet</th>\n",
       "    </tr>\n",
       "  </thead>\n",
       "  <tbody>\n",
       "    <tr>\n",
       "      <th>2006/ 2007</th>\n",
       "      <td>2 815</td>\n",
       "    </tr>\n",
       "    <tr>\n",
       "      <th>2007/ 2008</th>\n",
       "      <td>3 306</td>\n",
       "    </tr>\n",
       "    <tr>\n",
       "      <th>2008/ 2009</th>\n",
       "      <td>3 691</td>\n",
       "    </tr>\n",
       "    <tr>\n",
       "      <th>2009/ 2010</th>\n",
       "      <td>3 781</td>\n",
       "    </tr>\n",
       "    <tr>\n",
       "      <th>2010/ 2011</th>\n",
       "      <td>3 914</td>\n",
       "    </tr>\n",
       "    <tr>\n",
       "      <th>2011/ 2012</th>\n",
       "      <td>4 237</td>\n",
       "    </tr>\n",
       "    <tr>\n",
       "      <th>2012/ 2013</th>\n",
       "      <td>4 471</td>\n",
       "    </tr>\n",
       "    <tr>\n",
       "      <th>2013/ 2014</th>\n",
       "      <td>4 852</td>\n",
       "    </tr>\n",
       "    <tr>\n",
       "      <th>2014/ 2015</th>\n",
       "      <td>5 334</td>\n",
       "    </tr>\n",
       "    <tr>\n",
       "      <th>2015/ 2016</th>\n",
       "      <td>5 865</td>\n",
       "    </tr>\n",
       "    <tr>\n",
       "      <th>2016/ 2017</th>\n",
       "      <td>6 549</td>\n",
       "    </tr>\n",
       "    <tr>\n",
       "      <th>2017/ 2018</th>\n",
       "      <td>7 157</td>\n",
       "    </tr>\n",
       "    <tr>\n",
       "      <th>2018/ 2019</th>\n",
       "      <td>7 803</td>\n",
       "    </tr>\n",
       "    <tr>\n",
       "      <th>2019/ 2020</th>\n",
       "      <td>8 325</td>\n",
       "    </tr>\n",
       "    <tr>\n",
       "      <th>2020/ 2021</th>\n",
       "      <td>8 499</td>\n",
       "    </tr>\n",
       "    <tr>\n",
       "      <th>2021/ 2022</th>\n",
       "      <td>8 689</td>\n",
       "    </tr>\n",
       "  </tbody>\n",
       "</table>\n",
       "</div>"
      ],
      "text/plain": [
       "            pocet\n",
       "2006/ 2007  2 815\n",
       "2007/ 2008  3 306\n",
       "2008/ 2009  3 691\n",
       "2009/ 2010  3 781\n",
       "2010/ 2011  3 914\n",
       "2011/ 2012  4 237\n",
       "2012/ 2013  4 471\n",
       "2013/ 2014  4 852\n",
       "2014/ 2015  5 334\n",
       "2015/ 2016  5 865\n",
       "2016/ 2017  6 549\n",
       "2017/ 2018  7 157\n",
       "2018/ 2019  7 803\n",
       "2019/ 2020  8 325\n",
       "2020/ 2021  8 499\n",
       "2021/ 2022  8 689"
      ]
     },
     "execution_count": 15,
     "metadata": {},
     "output_type": "execute_result"
    }
   ],
   "source": [
    "staty_eu = df.iloc[3, 4:]\n",
    "staty_eu = staty_eu.reset_index(level=0)\n",
    "staty_eu = staty_eu.drop(columns=['level_0'])\n",
    "staty_eu = staty_eu.rename(columns={3: 'pocet'})\n",
    "staty_eu"
   ]
  },
  {
   "cell_type": "code",
   "execution_count": null,
   "metadata": {},
   "outputs": [
    {
     "data": {
      "text/html": [
       "<div>\n",
       "<style scoped>\n",
       "    .dataframe tbody tr th:only-of-type {\n",
       "        vertical-align: middle;\n",
       "    }\n",
       "\n",
       "    .dataframe tbody tr th {\n",
       "        vertical-align: top;\n",
       "    }\n",
       "\n",
       "    .dataframe thead th {\n",
       "        text-align: right;\n",
       "    }\n",
       "</style>\n",
       "<table border=\"1\" class=\"dataframe\">\n",
       "  <thead>\n",
       "    <tr style=\"text-align: right;\">\n",
       "      <th></th>\n",
       "      <th>pocet</th>\n",
       "    </tr>\n",
       "  </thead>\n",
       "  <tbody>\n",
       "    <tr>\n",
       "      <th>2006/ 2007</th>\n",
       "      <td>4 769</td>\n",
       "    </tr>\n",
       "    <tr>\n",
       "      <th>2007/ 2008</th>\n",
       "      <td>4 703</td>\n",
       "    </tr>\n",
       "    <tr>\n",
       "      <th>2008/ 2009</th>\n",
       "      <td>4 945</td>\n",
       "    </tr>\n",
       "    <tr>\n",
       "      <th>2009/ 2010</th>\n",
       "      <td>5 233</td>\n",
       "    </tr>\n",
       "    <tr>\n",
       "      <th>2010/ 2011</th>\n",
       "      <td>5 418</td>\n",
       "    </tr>\n",
       "    <tr>\n",
       "      <th>2011/ 2012</th>\n",
       "      <td>5 565</td>\n",
       "    </tr>\n",
       "    <tr>\n",
       "      <th>2012/ 2013</th>\n",
       "      <td>5 627</td>\n",
       "    </tr>\n",
       "    <tr>\n",
       "      <th>2013/ 2014</th>\n",
       "      <td>5 702</td>\n",
       "    </tr>\n",
       "    <tr>\n",
       "      <th>2014/ 2015</th>\n",
       "      <td>6 256</td>\n",
       "    </tr>\n",
       "    <tr>\n",
       "      <th>2015/ 2016</th>\n",
       "      <td>7 027</td>\n",
       "    </tr>\n",
       "    <tr>\n",
       "      <th>2016/ 2017</th>\n",
       "      <td>7 791</td>\n",
       "    </tr>\n",
       "    <tr>\n",
       "      <th>2017/ 2018</th>\n",
       "      <td>8 407</td>\n",
       "    </tr>\n",
       "    <tr>\n",
       "      <th>2018/ 2019</th>\n",
       "      <td>9 290</td>\n",
       "    </tr>\n",
       "    <tr>\n",
       "      <th>2019/ 2020</th>\n",
       "      <td>10 456</td>\n",
       "    </tr>\n",
       "    <tr>\n",
       "      <th>2020/ 2021</th>\n",
       "      <td>11 477</td>\n",
       "    </tr>\n",
       "    <tr>\n",
       "      <th>2021/ 2022</th>\n",
       "      <td>12 890</td>\n",
       "    </tr>\n",
       "  </tbody>\n",
       "</table>\n",
       "</div>"
      ],
      "text/plain": [
       "             pocet\n",
       "2006/ 2007   4 769\n",
       "2007/ 2008   4 703\n",
       "2008/ 2009   4 945\n",
       "2009/ 2010   5 233\n",
       "2010/ 2011   5 418\n",
       "2011/ 2012   5 565\n",
       "2012/ 2013   5 627\n",
       "2013/ 2014   5 702\n",
       "2014/ 2015   6 256\n",
       "2015/ 2016   7 027\n",
       "2016/ 2017   7 791\n",
       "2017/ 2018   8 407\n",
       "2018/ 2019   9 290\n",
       "2019/ 2020  10 456\n",
       "2020/ 2021  11 477\n",
       "2021/ 2022  12 890"
      ]
     },
     "execution_count": 16,
     "metadata": {},
     "output_type": "execute_result"
    }
   ],
   "source": [
    "ostatni_evropske_staty = df.iloc[4, 4:]\n",
    "ostatni_evropske_staty = ostatni_evropske_staty.reset_index(level=0)\n",
    "ostatni_evropske_staty = ostatni_evropske_staty.drop(columns=['level_0'])\n",
    "ostatni_evropske_staty = ostatni_evropske_staty.rename(columns={4: 'pocet'})\n",
    "ostatni_evropske_staty"
   ]
  },
  {
   "cell_type": "code",
   "execution_count": null,
   "metadata": {},
   "outputs": [
    {
     "data": {
      "text/html": [
       "<div>\n",
       "<style scoped>\n",
       "    .dataframe tbody tr th:only-of-type {\n",
       "        vertical-align: middle;\n",
       "    }\n",
       "\n",
       "    .dataframe tbody tr th {\n",
       "        vertical-align: top;\n",
       "    }\n",
       "\n",
       "    .dataframe thead th {\n",
       "        text-align: right;\n",
       "    }\n",
       "</style>\n",
       "<table border=\"1\" class=\"dataframe\">\n",
       "  <thead>\n",
       "    <tr style=\"text-align: right;\">\n",
       "      <th></th>\n",
       "      <th>pocet_ostatni_evropske_staty</th>\n",
       "      <th>pocet_EU</th>\n",
       "    </tr>\n",
       "  </thead>\n",
       "  <tbody>\n",
       "    <tr>\n",
       "      <th>2006/ 2007</th>\n",
       "      <td>4769</td>\n",
       "      <td>2815</td>\n",
       "    </tr>\n",
       "    <tr>\n",
       "      <th>2007/ 2008</th>\n",
       "      <td>4703</td>\n",
       "      <td>3306</td>\n",
       "    </tr>\n",
       "    <tr>\n",
       "      <th>2008/ 2009</th>\n",
       "      <td>4945</td>\n",
       "      <td>3691</td>\n",
       "    </tr>\n",
       "    <tr>\n",
       "      <th>2009/ 2010</th>\n",
       "      <td>5233</td>\n",
       "      <td>3781</td>\n",
       "    </tr>\n",
       "    <tr>\n",
       "      <th>2010/ 2011</th>\n",
       "      <td>5418</td>\n",
       "      <td>3914</td>\n",
       "    </tr>\n",
       "    <tr>\n",
       "      <th>2011/ 2012</th>\n",
       "      <td>5565</td>\n",
       "      <td>4237</td>\n",
       "    </tr>\n",
       "    <tr>\n",
       "      <th>2012/ 2013</th>\n",
       "      <td>5627</td>\n",
       "      <td>4471</td>\n",
       "    </tr>\n",
       "    <tr>\n",
       "      <th>2013/ 2014</th>\n",
       "      <td>5702</td>\n",
       "      <td>4852</td>\n",
       "    </tr>\n",
       "    <tr>\n",
       "      <th>2014/ 2015</th>\n",
       "      <td>6256</td>\n",
       "      <td>5334</td>\n",
       "    </tr>\n",
       "    <tr>\n",
       "      <th>2015/ 2016</th>\n",
       "      <td>7027</td>\n",
       "      <td>5865</td>\n",
       "    </tr>\n",
       "    <tr>\n",
       "      <th>2016/ 2017</th>\n",
       "      <td>7791</td>\n",
       "      <td>6549</td>\n",
       "    </tr>\n",
       "    <tr>\n",
       "      <th>2017/ 2018</th>\n",
       "      <td>8407</td>\n",
       "      <td>7157</td>\n",
       "    </tr>\n",
       "    <tr>\n",
       "      <th>2018/ 2019</th>\n",
       "      <td>9290</td>\n",
       "      <td>7803</td>\n",
       "    </tr>\n",
       "    <tr>\n",
       "      <th>2019/ 2020</th>\n",
       "      <td>10456</td>\n",
       "      <td>8325</td>\n",
       "    </tr>\n",
       "    <tr>\n",
       "      <th>2020/ 2021</th>\n",
       "      <td>11477</td>\n",
       "      <td>8499</td>\n",
       "    </tr>\n",
       "    <tr>\n",
       "      <th>2021/ 2022</th>\n",
       "      <td>12890</td>\n",
       "      <td>8689</td>\n",
       "    </tr>\n",
       "  </tbody>\n",
       "</table>\n",
       "</div>"
      ],
      "text/plain": [
       "            pocet_ostatni_evropske_staty  pocet_EU\n",
       "2006/ 2007                          4769      2815\n",
       "2007/ 2008                          4703      3306\n",
       "2008/ 2009                          4945      3691\n",
       "2009/ 2010                          5233      3781\n",
       "2010/ 2011                          5418      3914\n",
       "2011/ 2012                          5565      4237\n",
       "2012/ 2013                          5627      4471\n",
       "2013/ 2014                          5702      4852\n",
       "2014/ 2015                          6256      5334\n",
       "2015/ 2016                          7027      5865\n",
       "2016/ 2017                          7791      6549\n",
       "2017/ 2018                          8407      7157\n",
       "2018/ 2019                          9290      7803\n",
       "2019/ 2020                         10456      8325\n",
       "2020/ 2021                         11477      8499\n",
       "2021/ 2022                         12890      8689"
      ]
     },
     "execution_count": 17,
     "metadata": {},
     "output_type": "execute_result"
    }
   ],
   "source": [
    "data =  pandas.DataFrame(index=ostatni_evropske_staty.index)\n",
    "data['pocet_ostatni_evropske_staty'] = ostatni_evropske_staty['pocet'].str.split().str.join('').astype(int)\n",
    "data['pocet_EU'] = staty_eu['pocet'].str.split().str.join('').astype(int)\n",
    "data"
   ]
  },
  {
   "cell_type": "code",
   "execution_count": null,
   "metadata": {},
   "outputs": [
    {
     "ename": "ImportError",
     "evalue": "matplotlib is required for plotting when the default backend \"matplotlib\" is selected.",
     "output_type": "error",
     "traceback": [
      "\u001b[1;31m---------------------------------------------------------------------------\u001b[0m",
      "\u001b[1;31mImportError\u001b[0m                               Traceback (most recent call last)",
      "Cell \u001b[1;32mIn[18], line 1\u001b[0m\n\u001b[1;32m----> 1\u001b[0m data\u001b[39m.\u001b[39;49mplot(figsize\u001b[39m=\u001b[39;49m(\u001b[39m15\u001b[39;49m,\u001b[39m5\u001b[39;49m))\n",
      "File \u001b[1;32mc:\\Users\\David\\AppData\\Local\\Programs\\Python\\Python39\\lib\\site-packages\\pandas\\plotting\\_core.py:895\u001b[0m, in \u001b[0;36mPlotAccessor.__call__\u001b[1;34m(self, *args, **kwargs)\u001b[0m\n\u001b[0;32m    894\u001b[0m \u001b[39mdef\u001b[39;00m \u001b[39m__call__\u001b[39m(\u001b[39mself\u001b[39m, \u001b[39m*\u001b[39margs, \u001b[39m*\u001b[39m\u001b[39m*\u001b[39mkwargs):\n\u001b[1;32m--> 895\u001b[0m     plot_backend \u001b[39m=\u001b[39m _get_plot_backend(kwargs\u001b[39m.\u001b[39;49mpop(\u001b[39m\"\u001b[39;49m\u001b[39mbackend\u001b[39;49m\u001b[39m\"\u001b[39;49m, \u001b[39mNone\u001b[39;49;00m))\n\u001b[0;32m    897\u001b[0m     x, y, kind, kwargs \u001b[39m=\u001b[39m \u001b[39mself\u001b[39m\u001b[39m.\u001b[39m_get_call_args(\n\u001b[0;32m    898\u001b[0m         plot_backend\u001b[39m.\u001b[39m\u001b[39m__name__\u001b[39m, \u001b[39mself\u001b[39m\u001b[39m.\u001b[39m_parent, args, kwargs\n\u001b[0;32m    899\u001b[0m     )\n\u001b[0;32m    901\u001b[0m     kind \u001b[39m=\u001b[39m \u001b[39mself\u001b[39m\u001b[39m.\u001b[39m_kind_aliases\u001b[39m.\u001b[39mget(kind, kind)\n",
      "File \u001b[1;32mc:\\Users\\David\\AppData\\Local\\Programs\\Python\\Python39\\lib\\site-packages\\pandas\\plotting\\_core.py:1862\u001b[0m, in \u001b[0;36m_get_plot_backend\u001b[1;34m(backend)\u001b[0m\n\u001b[0;32m   1859\u001b[0m \u001b[39mif\u001b[39;00m backend_str \u001b[39min\u001b[39;00m _backends:\n\u001b[0;32m   1860\u001b[0m     \u001b[39mreturn\u001b[39;00m _backends[backend_str]\n\u001b[1;32m-> 1862\u001b[0m module \u001b[39m=\u001b[39m _load_backend(backend_str)\n\u001b[0;32m   1863\u001b[0m _backends[backend_str] \u001b[39m=\u001b[39m module\n\u001b[0;32m   1864\u001b[0m \u001b[39mreturn\u001b[39;00m module\n",
      "File \u001b[1;32mc:\\Users\\David\\AppData\\Local\\Programs\\Python\\Python39\\lib\\site-packages\\pandas\\plotting\\_core.py:1794\u001b[0m, in \u001b[0;36m_load_backend\u001b[1;34m(backend)\u001b[0m\n\u001b[0;32m   1792\u001b[0m         module \u001b[39m=\u001b[39m importlib\u001b[39m.\u001b[39mimport_module(\u001b[39m\"\u001b[39m\u001b[39mpandas.plotting._matplotlib\u001b[39m\u001b[39m\"\u001b[39m)\n\u001b[0;32m   1793\u001b[0m     \u001b[39mexcept\u001b[39;00m \u001b[39mImportError\u001b[39;00m:\n\u001b[1;32m-> 1794\u001b[0m         \u001b[39mraise\u001b[39;00m \u001b[39mImportError\u001b[39;00m(\n\u001b[0;32m   1795\u001b[0m             \u001b[39m\"\u001b[39m\u001b[39mmatplotlib is required for plotting when the \u001b[39m\u001b[39m\"\u001b[39m\n\u001b[0;32m   1796\u001b[0m             \u001b[39m'\u001b[39m\u001b[39mdefault backend \u001b[39m\u001b[39m\"\u001b[39m\u001b[39mmatplotlib\u001b[39m\u001b[39m\"\u001b[39m\u001b[39m is selected.\u001b[39m\u001b[39m'\u001b[39m\n\u001b[0;32m   1797\u001b[0m         ) \u001b[39mfrom\u001b[39;00m \u001b[39mNone\u001b[39;00m\n\u001b[0;32m   1798\u001b[0m     \u001b[39mreturn\u001b[39;00m module\n\u001b[0;32m   1800\u001b[0m found_backend \u001b[39m=\u001b[39m \u001b[39mFalse\u001b[39;00m\n",
      "\u001b[1;31mImportError\u001b[0m: matplotlib is required for plotting when the default backend \"matplotlib\" is selected."
     ]
    }
   ],
   "source": [
    "data.plot(figsize=(15,5))"
   ]
  }
 ],
 "metadata": {
  "kernelspec": {
   "display_name": "Python 3",
   "language": "python",
   "name": "python3"
  },
  "language_info": {
   "codemirror_mode": {
    "name": "ipython",
    "version": 3
   },
   "file_extension": ".py",
   "mimetype": "text/x-python",
   "name": "python",
   "nbconvert_exporter": "python",
   "pygments_lexer": "ipython3",
   "version": "3.9.10"
  },
  "orig_nbformat": 4
 },
 "nbformat": 4,
 "nbformat_minor": 2
}
